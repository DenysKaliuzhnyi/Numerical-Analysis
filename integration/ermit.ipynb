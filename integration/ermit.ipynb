{
 "cells": [
  {
   "cell_type": "markdown",
   "metadata": {},
   "source": [
    "# Виконав студент группи МСС-3 Калюжний Денис"
   ]
  },
  {
   "cell_type": "markdown",
   "metadata": {},
   "source": [
    "### **Теорія:**  \n",
    "Розглянемо проміжок $(-\\infty,\\infty)$ і вагу $\\rho(x)=e^{-x^2}$, тобто виведемо формулу Гаусса для обчислення інтегралу \n",
    "<center>$\\int\\limits_{-\\infty}^{\\infty} e^{-x^2}f(x)\\text{d}x$.</center>  \n",
    "За теорією \n",
    "<center>$w(x) = H_n(x) = (-1)^n e^{x^2} \\dfrac{\\text{d}^n}{\\text{d}x^n} e^{-x^2}$, </center> \n",
    "де $H_n(x) -$ багаточлени Ерміта, які обчислюються за рекурентними формулами    \n",
    "  \n",
    "    \n",
    "<center>${H_{n+1}(x) = 2xH_n(x) - 2nH_{n-1}(x)}$,</center>\n",
    "\n",
    "з початковими умовами $H_{-1}=0, H_0=1$.\n",
    "\n",
    "Коефіцієнти квадратурної формули обчислюються за формулами\n",
    "<center>$c_k = \\dfrac{2^{n+1}n!\\sqrt{n}}{(H'_n(x_k))^2}$,</center>  \n",
    "а $x_k - $ нулі поліному $H_n(x)$.  \n",
    "\n",
    "Залишковий член\n",
    "<center>$R_n(f)=\\dfrac{n!\\sqrt{\\pi}}{2^n(2n)!}f^{2n}(\\xi),$</center>\n",
    "<center>$|R_n(f)|\\leq M_{2n} \\dfrac{n!\\sqrt{\\pi}}{2^n(2n)!}.$</center>"
   ]
  },
  {
   "cell_type": "markdown",
   "metadata": {},
   "source": [
    "### **Задача:**  \n",
    "Наближено обчислити $I = \\int\\limits_{-\\infty}^{\\infty} e^{-x^2} \\cos^2(x) \\text{d}x$ \n",
    "за допомогою формули Гаусса та багаточленів Ерміта."
   ]
  },
  {
   "cell_type": "markdown",
   "metadata": {},
   "source": [
    "### **Розв'язок:**  "
   ]
  },
  {
   "cell_type": "markdown",
   "metadata": {},
   "source": [
    "Імпорт потрібних бібліотек."
   ]
  },
  {
   "cell_type": "code",
   "execution_count": 1,
   "metadata": {},
   "outputs": [],
   "source": [
    "import numpy as np\n",
    "from scipy.optimize import fsolve\n",
    "from functools import partial\n",
    "\n",
    "np.set_printoptions(precision=3)"
   ]
  },
  {
   "cell_type": "markdown",
   "metadata": {},
   "source": [
    "Задамо функцію $f$ та $\\rho$."
   ]
  },
  {
   "cell_type": "code",
   "execution_count": 2,
   "metadata": {},
   "outputs": [],
   "source": [
    "f = lambda x: np.square(np.cos(x))\n",
    "r = lambda x: np.exp(-np.square(x))"
   ]
  },
  {
   "cell_type": "markdown",
   "metadata": {},
   "source": [
    "Визначаємо функцію **Hn**, яка буде рахувати багаточлен Ерміта заданого степеня   \n",
    "та функцію **dHndx**, що знаходить похідну багаточлена Ерміта."
   ]
  },
  {
   "cell_type": "code",
   "execution_count": 3,
   "metadata": {},
   "outputs": [],
   "source": [
    "def Hn(x, n):\n",
    "    if n == -1:\n",
    "        hn = 0\n",
    "    elif n == 0:\n",
    "        hn = 1\n",
    "    else:\n",
    "        hn = 2 * x * Hn(x, n-1) - 2 * (n - 1) * Hn(x, n-2)\n",
    "    return hn\n",
    "\n",
    "def dHndx(x, hn):\n",
    "    n = hn.keywords['n']\n",
    "    return 2 * n * Hn(x, n-1)"
   ]
  },
  {
   "cell_type": "markdown",
   "metadata": {},
   "source": [
    "Задамо $n$."
   ]
  },
  {
   "cell_type": "code",
   "execution_count": 4,
   "metadata": {},
   "outputs": [],
   "source": [
    "n = 5"
   ]
  },
  {
   "cell_type": "markdown",
   "metadata": {},
   "source": [
    "Виконуємо обчислення,знаходимо $x_k$, $f(x_k)$."
   ]
  },
  {
   "cell_type": "code",
   "execution_count": 5,
   "metadata": {},
   "outputs": [
    {
     "name": "stdout",
     "output_type": "stream",
     "text": [
      "xk = [-2.02  -0.959  0.     0.959  2.02 ]\n"
     ]
    }
   ],
   "source": [
    "hn = partial(Hn, n=n)\n",
    "xk = fsolve(hn, np.array(np.linspace(-3, 3, n)))\n",
    "# цю частину потрібно контролювати (знаходження коренів багаточлена Ерміта)\n",
    "try:\n",
    "    assert len(np.round(xk, 3)) == len(np.unique(np.round(xk, 3))), \"duplicate roots\"\n",
    "except AssertionError as e:\n",
    "    print(e)\n",
    "else:\n",
    "    print(\"xk =\", xk)                                "
   ]
  },
  {
   "cell_type": "code",
   "execution_count": 6,
   "metadata": {},
   "outputs": [
    {
     "name": "stdout",
     "output_type": "stream",
     "text": [
      "f(xk) = [0.189 0.33  1.    0.33  0.189]\n"
     ]
    }
   ],
   "source": [
    "fxk = f(xk)\n",
    "print(\"f(xk) =\", fxk)"
   ]
  },
  {
   "cell_type": "markdown",
   "metadata": {},
   "source": [
    "Шукаємо коефіцієнти $c_k$."
   ]
  },
  {
   "cell_type": "code",
   "execution_count": 7,
   "metadata": {},
   "outputs": [
    {
     "name": "stdout",
     "output_type": "stream",
     "text": [
      "ck = [0.02  0.394 0.945 0.394 0.02 ]\n"
     ]
    }
   ],
   "source": [
    "ck = []\n",
    "for k in range(n):\n",
    "    factorial = np.prod(np.arange(1, n+1))\n",
    "    derivate = dHndx(xk[k], hn)\n",
    "    c = (2**(n+1) * factorial * np.sqrt(np.pi)) / derivate**2\n",
    "    ck.append(c)\n",
    "ck = np.array(ck)\n",
    "print(\"ck =\", ck)"
   ]
  },
  {
   "cell_type": "markdown",
   "metadata": {},
   "source": [
    "Обчислюємо інтеграл $I_n$."
   ]
  },
  {
   "cell_type": "code",
   "execution_count": 8,
   "metadata": {},
   "outputs": [
    {
     "name": "stdout",
     "output_type": "stream",
     "text": [
      "In = 1.212838801839738\n"
     ]
    }
   ],
   "source": [
    "In = np.sum(ck * fxk)\n",
    "print(\"In =\", In)"
   ]
  },
  {
   "cell_type": "markdown",
   "metadata": {},
   "source": [
    "Аналітичний розв'язок даної задачі: $I = \\dfrac{(1 + \\operatorname{e}) \\sqrt{\\pi}}{2 \\operatorname{e}}$ і чисельно він рівний"
   ]
  },
  {
   "cell_type": "code",
   "execution_count": 9,
   "metadata": {},
   "outputs": [
    {
     "name": "stdout",
     "output_type": "stream",
     "text": [
      "I = 1.212251591539404\n"
     ]
    }
   ],
   "source": [
    "I = ((1 + np.e) * np.sqrt(np.pi)) / (2 * np.e)\n",
    "print(\"I =\", I)"
   ]
  },
  {
   "cell_type": "markdown",
   "metadata": {},
   "source": [
    "Отже апостеріорна оцінка похибки $R_n$:"
   ]
  },
  {
   "cell_type": "code",
   "execution_count": 10,
   "metadata": {},
   "outputs": [
    {
     "name": "stdout",
     "output_type": "stream",
     "text": [
      "Rn = 0.0005872103003339291\n"
     ]
    }
   ],
   "source": [
    "Rn = np.abs(I - In)\n",
    "print(\"Rn =\", Rn)"
   ]
  },
  {
   "cell_type": "markdown",
   "metadata": {},
   "source": [
    "Визначимо апріорну оцінку похибки $R$.   \n",
    "$M_{10} = max\\left|\\dfrac{\\text{d}}{\\text{d}x^{10}} \\cos^2(x)\\right| = max\\left| -512 (\\cos^2(x) - \\sin^2(x)) \\right| = 512$"
   ]
  },
  {
   "cell_type": "code",
   "execution_count": 11,
   "metadata": {},
   "outputs": [
    {
     "name": "stdout",
     "output_type": "stream",
     "text": [
      "R = 0.0009378062703203787\n"
     ]
    }
   ],
   "source": [
    "M10 = 512\n",
    "R = M10 * np.prod(np.arange(1, n+1)) * np.sqrt(np.pi) / (2**n * np.prod(np.arange(1, 2*n + 1)))\n",
    "print(\"R =\", R)"
   ]
  },
  {
   "cell_type": "markdown",
   "metadata": {},
   "source": [
    "Перевіряємо, що оцінки апостеріорна <= апріорна."
   ]
  },
  {
   "cell_type": "code",
   "execution_count": 12,
   "metadata": {},
   "outputs": [
    {
     "name": "stdout",
     "output_type": "stream",
     "text": [
      "OK\n"
     ]
    }
   ],
   "source": [
    "try:\n",
    "    assert Rn <= R, \"апостеріорна > апріорна\"\n",
    "except AssertionError as e:\n",
    "    print(e)\n",
    "else:\n",
    "    print('OK')"
   ]
  }
 ],
 "metadata": {
  "kernelspec": {
   "display_name": "condaenv",
   "language": "python",
   "name": "condaenv"
  },
  "language_info": {
   "codemirror_mode": {
    "name": "ipython",
    "version": 3
   },
   "file_extension": ".py",
   "mimetype": "text/x-python",
   "name": "python",
   "nbconvert_exporter": "python",
   "pygments_lexer": "ipython3",
   "version": "3.6.10"
  }
 },
 "nbformat": 4,
 "nbformat_minor": 4
}
